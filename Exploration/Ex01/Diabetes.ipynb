{
 "cells": [
  {
   "cell_type": "code",
   "execution_count": 1,
   "id": "284b8621",
   "metadata": {},
   "outputs": [],
   "source": [
    "import numpy as np\n",
    "from sklearn.model_selection import train_test_split\n",
    "from sklearn.datasets import load_diabetes\n",
    "diabetes = load_diabetes()"
   ]
  },
  {
   "cell_type": "code",
   "execution_count": 2,
   "id": "f9ddf26e",
   "metadata": {},
   "outputs": [
    {
     "name": "stdout",
     "output_type": "stream",
     "text": [
      "(442, 10) (442,)\n",
      "[[ 0.03807591  0.05068012  0.06169621 ... -0.00259226  0.01990842\n",
      "  -0.01764613]\n",
      " [-0.00188202 -0.04464164 -0.05147406 ... -0.03949338 -0.06832974\n",
      "  -0.09220405]\n",
      " [ 0.08529891  0.05068012  0.04445121 ... -0.00259226  0.00286377\n",
      "  -0.02593034]\n",
      " ...\n",
      " [ 0.04170844  0.05068012 -0.01590626 ... -0.01107952 -0.04687948\n",
      "   0.01549073]\n",
      " [-0.04547248 -0.04464164  0.03906215 ...  0.02655962  0.04452837\n",
      "  -0.02593034]\n",
      " [-0.04547248 -0.04464164 -0.0730303  ... -0.03949338 -0.00421986\n",
      "   0.00306441]] [151.  75. 141. 206. 135.  97. 138.  63. 110. 310. 101.  69. 179. 185.\n",
      " 118. 171. 166. 144.  97. 168.  68.  49.  68. 245. 184. 202. 137.  85.\n",
      " 131. 283. 129.  59. 341.  87.  65. 102. 265. 276. 252.  90. 100.  55.\n",
      "  61.  92. 259.  53. 190. 142.  75. 142. 155. 225.  59. 104. 182. 128.\n",
      "  52.  37. 170. 170.  61. 144.  52. 128.  71. 163. 150.  97. 160. 178.\n",
      "  48. 270. 202. 111.  85.  42. 170. 200. 252. 113. 143.  51.  52. 210.\n",
      "  65. 141.  55. 134.  42. 111.  98. 164.  48.  96.  90. 162. 150. 279.\n",
      "  92.  83. 128. 102. 302. 198.  95.  53. 134. 144. 232.  81. 104.  59.\n",
      " 246. 297. 258. 229. 275. 281. 179. 200. 200. 173. 180.  84. 121. 161.\n",
      "  99. 109. 115. 268. 274. 158. 107.  83. 103. 272.  85. 280. 336. 281.\n",
      " 118. 317. 235.  60. 174. 259. 178. 128.  96. 126. 288.  88. 292.  71.\n",
      " 197. 186.  25.  84.  96. 195.  53. 217. 172. 131. 214.  59.  70. 220.\n",
      " 268. 152.  47.  74. 295. 101. 151. 127. 237. 225.  81. 151. 107.  64.\n",
      " 138. 185. 265. 101. 137. 143. 141.  79. 292. 178.  91. 116.  86. 122.\n",
      "  72. 129. 142.  90. 158.  39. 196. 222. 277.  99. 196. 202. 155.  77.\n",
      " 191.  70.  73.  49.  65. 263. 248. 296. 214. 185.  78.  93. 252. 150.\n",
      "  77. 208.  77. 108. 160.  53. 220. 154. 259.  90. 246. 124.  67.  72.\n",
      " 257. 262. 275. 177.  71.  47. 187. 125.  78.  51. 258. 215. 303. 243.\n",
      "  91. 150. 310. 153. 346.  63.  89.  50.  39. 103. 308. 116. 145.  74.\n",
      "  45. 115. 264.  87. 202. 127. 182. 241.  66.  94. 283.  64. 102. 200.\n",
      " 265.  94. 230. 181. 156. 233.  60. 219.  80.  68. 332. 248.  84. 200.\n",
      "  55.  85.  89.  31. 129.  83. 275.  65. 198. 236. 253. 124.  44. 172.\n",
      " 114. 142. 109. 180. 144. 163. 147.  97. 220. 190. 109. 191. 122. 230.\n",
      " 242. 248. 249. 192. 131. 237.  78. 135. 244. 199. 270. 164.  72.  96.\n",
      " 306.  91. 214.  95. 216. 263. 178. 113. 200. 139. 139.  88. 148.  88.\n",
      " 243.  71.  77. 109. 272.  60.  54. 221.  90. 311. 281. 182. 321.  58.\n",
      " 262. 206. 233. 242. 123. 167.  63. 197.  71. 168. 140. 217. 121. 235.\n",
      " 245.  40.  52. 104. 132.  88.  69. 219.  72. 201. 110.  51. 277.  63.\n",
      " 118.  69. 273. 258.  43. 198. 242. 232. 175.  93. 168. 275. 293. 281.\n",
      "  72. 140. 189. 181. 209. 136. 261. 113. 131. 174. 257.  55.  84.  42.\n",
      " 146. 212. 233.  91. 111. 152. 120.  67. 310.  94. 183.  66. 173.  72.\n",
      "  49.  64.  48. 178. 104. 132. 220.  57.]\n"
     ]
    }
   ],
   "source": [
    "df_X = np.array(diabetes.data)\n",
    "df_y = np.array(diabetes.target)\n",
    "\n",
    "print(df_X.shape, df_y.shape)\n",
    "print(df_X,df_y)"
   ]
  },
  {
   "cell_type": "code",
   "execution_count": 3,
   "id": "0ea84658",
   "metadata": {},
   "outputs": [],
   "source": [
    "X_train, X_test, y_train, y_test = train_test_split(df_X, df_y, random_state=42)"
   ]
  },
  {
   "cell_type": "code",
   "execution_count": 4,
   "id": "e7f4e80d",
   "metadata": {},
   "outputs": [
    {
     "name": "stdout",
     "output_type": "stream",
     "text": [
      "[-0.01137052  0.22672049  1.7449424   0.01467805  0.65270615 -0.21970661\n",
      "  1.78593246 -1.32927272 -0.68508534  1.24537064] 0.4917190934320457\n"
     ]
    }
   ],
   "source": [
    "# W: 10개의 난수로 구성된 벡터, b: 난수 1개 생성.\n",
    "W = np.random.randn(10)\n",
    "b = np.random.randn()\n",
    "print(W,b)"
   ]
  },
  {
   "cell_type": "code",
   "execution_count": 5,
   "id": "4bcc6136",
   "metadata": {},
   "outputs": [],
   "source": [
    "# 모델 함수 구현\n",
    "def model(X, W, b):\n",
    "    prediction = 0\n",
    "    for i in range(10):\n",
    "        prediction += X[:,i]*W[i]\n",
    "    prediction += b\n",
    "    return prediction"
   ]
  },
  {
   "cell_type": "code",
   "execution_count": null,
   "id": "696ba769",
   "metadata": {},
   "outputs": [],
   "source": []
  },
  {
   "cell_type": "code",
   "execution_count": 6,
   "id": "576de245",
   "metadata": {},
   "outputs": [],
   "source": [
    "# loss 함수 구현\n",
    "def loss(X, W, b, y):\n",
    "    prediction = model(X, W, b)\n",
    "    return ((y - prediction)**2).mean()"
   ]
  },
  {
   "cell_type": "code",
   "execution_count": 7,
   "id": "bfcf551f",
   "metadata": {},
   "outputs": [],
   "source": [
    "# gradient 함수 구현\n",
    "def gradient(X, W, b, y):\n",
    "    \n",
    "    pred = model(X, W, b)\n",
    "    N = len(y)\n",
    "    \n",
    "    # dL/dW 계산해서 dW변수에 저장.\n",
    "    dW = (2/N)*X.T.dot(pred - y)\n",
    "    \n",
    "    # dL/db 계산해서 db 변수에 저장.\n",
    "    db = 2 * (pred - y).mean()\n",
    "    \n",
    "    return dW, db"
   ]
  },
  {
   "cell_type": "code",
   "execution_count": 8,
   "id": "9041f034",
   "metadata": {},
   "outputs": [],
   "source": [
    "# Learning Rate 설정\n",
    "learning_rate = 0.1"
   ]
  },
  {
   "cell_type": "code",
   "execution_count": 9,
   "id": "c6d82b0b",
   "metadata": {},
   "outputs": [
    {
     "name": "stdout",
     "output_type": "stream",
     "text": [
      "Iteration 100: Loss 5381.2506\n",
      "Iteration 200: Loss 4895.2254\n",
      "Iteration 300: Loss 4532.0944\n",
      "Iteration 400: Loss 4257.1787\n",
      "Iteration 500: Loss 4046.0002\n",
      "Iteration 600: Loss 3881.2357\n",
      "Iteration 700: Loss 3750.5858\n",
      "Iteration 800: Loss 3645.2833\n",
      "Iteration 900: Loss 3559.0472\n",
      "Iteration 1000: Loss 3487.3508\n"
     ]
    },
    {
     "data": {
      "image/png": "[encoded data removed]",
      "text/plain": [
       "<Figure size 432x288 with 1 Axes>"
      ]
     },
     "metadata": {
      "needs_background": "light"
     },
     "output_type": "display_data"
    }
   ],
   "source": [
    "# 학습 과정에서 loss 기록해 둘 리스트\n",
    "losses = []\n",
    "\n",
    "# 모델 학습\n",
    "for i in range(1, 1001):\n",
    "    dW, db = gradient(X_train, W, b, y_train)\n",
    "    W -= learning_rate * dW\n",
    "    b -= learning_rate * db\n",
    "    L = loss(X_train, W, b, y_train)\n",
    "    losses.append(L)\n",
    "    if i % 100 == 0:\n",
    "        print('Iteration {}: Loss {:.4f}'.format(i,L))\n",
    "\n",
    "# losses 그래프 그리기\n",
    "import matplotlib.pyplot as plt\n",
    "plt.plot(losses)\n",
    "plt.show()"
   ]
  },
  {
   "cell_type": "code",
   "execution_count": 10,
   "id": "2aa0f759",
   "metadata": {},
   "outputs": [
    {
     "data": {
      "text/plain": [
       "3090.179760308433"
      ]
     },
     "execution_count": 10,
     "metadata": {},
     "output_type": "execute_result"
    }
   ],
   "source": [
    "prediction = model(X_test, W, b)\n",
    "mse = loss(X_test, W, b, y_test)\n",
    "mse"
   ]
  },
  {
   "cell_type": "code",
   "execution_count": 11,
   "id": "69332e76",
   "metadata": {},
   "outputs": [
    {
     "name": "stdout",
     "output_type": "stream",
     "text": [
      "[162.97286179 160.1058704  160.03325784 250.71299597 149.70341455\n",
      " 130.16847331 218.19592451 196.06355852 115.45686431 137.80758769\n",
      " 116.80193191 139.9693369   81.97192206 201.46672187 127.31227269\n",
      " 136.99073576 208.58089405 225.18283635 164.0108462  199.12073432\n",
      " 170.01525634 117.10886115  99.0764745  182.9089065  142.31565594\n",
      " 165.48205445 175.62506463 172.04457313  76.66886891 144.49406779\n",
      " 169.93620584 112.59299262 146.19048323 179.78740082 174.64813621\n",
      " 181.40383651 144.15938453 149.32207905 172.2966172   89.08813814\n",
      " 108.09656606 131.7191728  154.08458792 172.29717557 164.82181377\n",
      "  93.12333991  99.38523078 108.76563771  87.24364601 142.71166396\n",
      " 132.17244384  88.17754226 141.89474854 121.43804719 183.34302596\n",
      " 138.58445153 122.79635673 180.92247678 119.73494312  84.34823292\n",
      " 181.57635623 167.8636305  137.22884413 134.51217868 137.60726647\n",
      " 180.59427184 178.14439346 161.71372217 107.18924362 148.51641248\n",
      " 169.47108923 194.48573217 221.28259669 144.81525056 103.35621319\n",
      " 170.52559362 195.77107753 176.82475796 166.56848269 183.71411318\n",
      " 122.10175273 121.23100365  83.80885596  95.02848037 123.92477486\n",
      " 102.90018675  84.68028131  86.3671131  142.85707371 186.25824341\n",
      " 161.92301065 188.85897971  98.85757606  85.56385442  78.61239864\n",
      " 173.21731296 224.97182106 166.78117743 105.45883421 103.26951837\n",
      " 181.36873018 122.466538   229.18222447 108.0755573  161.76970144\n",
      "  94.41583621 140.26803096 149.16029871 170.42768985 155.16549349\n",
      " 145.85794947] [219.  70. 202. 230. 111.  84. 242. 272.  94.  96.  94. 252.  99. 297.\n",
      " 135.  67. 295. 264. 170. 275. 310.  64. 128. 232. 129. 118. 263.  77.\n",
      "  48. 107. 140. 113.  90. 164. 180. 233.  42.  84. 172.  63.  48. 108.\n",
      " 156. 168.  90.  52. 200.  87.  90. 258. 136. 158.  69.  72. 171.  95.\n",
      "  72. 151. 168.  60. 122.  52. 187. 102. 214. 248. 181. 110. 140. 202.\n",
      " 101. 222. 281.  61.  89.  91. 186. 220. 237. 233.  68. 190.  96.  72.\n",
      " 153.  98.  37.  63. 184. 144. 150. 280. 125.  59.  65. 281. 277. 167.\n",
      "  90.  72. 178.  88. 270. 101. 197.  97.  53.  71. 262.  52. 102.]\n"
     ]
    }
   ],
   "source": [
    "print(prediction, y_test)"
   ]
  },
  {
   "cell_type": "code",
   "execution_count": 12,
   "id": "de77e877",
   "metadata": {},
   "outputs": [
    {
     "data": {
      "image/png": "[encoded data removed]",
      "text/plain": [
       "<Figure size 432x288 with 1 Axes>"
      ]
     },
     "metadata": {
      "needs_background": "light"
     },
     "output_type": "display_data"
    }
   ],
   "source": [
    "plt.scatter(X_test[:, 0], prediction)\n",
    "plt.scatter(X_test[:, 0], y_test)\n",
    "plt.show()"
   ]
  },
  {
   "cell_type": "code",
   "execution_count": null,
   "id": "651f32ae",
   "metadata": {},
   "outputs": [],
   "source": []
  }
 ],
 "metadata": {
  "kernelspec": {
   "display_name": "Python 3 (ipykernel)",
   "language": "python",
   "name": "python3"
  },
  "language_info": {
   "codemirror_mode": {
    "name": "ipython",
    "version": 3
   },
   "file_extension": ".py",
   "mimetype": "text/x-python",
   "name": "python",
   "nbconvert_exporter": "python",
   "pygments_lexer": "ipython3",
   "version": "3.9.7"
  }
 },
 "nbformat": 4,
 "nbformat_minor": 5
}
